{
 "cells": [
  {
   "cell_type": "code",
   "execution_count": 14,
   "metadata": {},
   "outputs": [],
   "source": [
    "import nbformat\n",
    "import json\n",
    "import re"
   ]
  },
  {
   "cell_type": "code",
   "execution_count": 15,
   "metadata": {},
   "outputs": [],
   "source": [
    "# got this from http://code.activestate.com/recipes/81611-roman-numerals/ <<< tyvm!\n",
    "def int_to_roman(input): \n",
    "   ints = (1000, 900,  500, 400, 100,  90, 50,  40, 10,  9,   5,  4,   1)\n",
    "   nums = ('M',  'CM', 'D', 'CD','C', 'XC','L','XL','X','IX','V','IV','I')\n",
    "   result = \"\"\n",
    "   for i in range(len(ints)):\n",
    "      count = int(input / ints[i])\n",
    "      result += nums[i] * count\n",
    "      input -= ints[i] * count\n",
    "   return result"
   ]
  },
  {
   "cell_type": "code",
   "execution_count": 23,
   "metadata": {},
   "outputs": [],
   "source": [
    "filename = 'Lab 1 - Data Preparation Answer Key.ipynb'\n",
    "\n",
    "def run(filename):\n",
    "    with open(filename) as f:\n",
    "        notebook = json.load(f)\n",
    "        f.close()\n",
    "\n",
    "    tag_num = 0\n",
    "    toc_text = ['# Table of Contents\\n', '\\n']\n",
    "    level_count = [1] * 6 # six potential header levels\n",
    "    last_level = 0 # the index of the last level that you were on\n",
    "    indent = '&nbsp;' * 4 # how big the indentation for each level should be\n",
    "\n",
    "    for cell in notebook['cells']:\n",
    "        if cell['cell_type'] == 'markdown':\n",
    "            line_num = 0\n",
    "            for line in cell['source']:\n",
    "                # from beginning of line, up to 3 whitespaces, between 1 and 6 #'s\n",
    "                c = re.match('^[\\W]{0,3}#{1,6}', line)\n",
    "\n",
    "                if c:\n",
    "                    # figuring out the number of #'s\n",
    "                    level = c.group(0).count('#') - 2\n",
    "                    \n",
    "                    # i only put the title of the lab w/ one # and don't want to include it in TOC\n",
    "                    if not level < 0:\n",
    "                        # removing newline from end of line\n",
    "                        if line.endswith('\\n'):\n",
    "                            line = line[:-1]\n",
    "\n",
    "                        # creating all of the text to add\n",
    "                        title = line[len(c.group(0)) + 1:] # removing the #'s from the beginning\n",
    "                        title = '[{}]'.format(title)\n",
    "                        indentation = level * indent\n",
    "\n",
    "                        # figuring out the correct level\n",
    "                        if last_level > level:\n",
    "                            for i in range(level+1, last_level+1):\n",
    "                                level_count[i] = 1\n",
    "                        last_level = level\n",
    "                        numeral = int_to_roman(level_count[level])\n",
    "                        numeral = '{}. '.format(numeral)\n",
    "                        level_count[level] += 1\n",
    "\n",
    "                        # concatenating and appending to toc_text\n",
    "                        toc_text.append(indentation + numeral + title + '(#{})'.format(tag_num) + '\\n')\n",
    "                        toc_text.append('\\n')\n",
    "\n",
    "                        # removing any old anchors\n",
    "                        if cell['source'][line_num].endswith('</a>'):\n",
    "                            anchor_starts_at = cell['source'][line_num].index('<a id=')\n",
    "                            cell['source'][line_num] = cell['source'][line_num][:anchor_starts_at]\n",
    "                        if cell['source'][line_num].endswith('\\n'):\n",
    "                            cell['source'][line_num] = cell['source'][line_num][:-1]\n",
    "                        if cell['source'][line_num].endswith('\\n '):\n",
    "                            cell['source'][line_num] = cell['source'][line_num][:-2]\n",
    "                        # placing an anchor\n",
    "                        cell['source'][line_num] += \" <a id='{}'></a>\\n\".format(tag_num)\n",
    "\n",
    "                        tag_num += 1\n",
    "                line_num += 1\n",
    "\n",
    "    # generates properly formatted markdown cell\n",
    "    toc_cell = nbformat.v4.new_markdown_cell(toc_text)\n",
    "    # adds table of contents to top of page\n",
    "    notebook['cells'].insert(0, toc_cell)\n",
    "\n",
    "    with open(filename, 'w') as outfile:\n",
    "            json.dump(notebook, outfile)"
   ]
  },
  {
   "cell_type": "code",
   "execution_count": 24,
   "metadata": {},
   "outputs": [],
   "source": [
    "run(filename)"
   ]
  }
 ],
 "metadata": {
  "kernelspec": {
   "display_name": "Python 3",
   "language": "python",
   "name": "python3"
  },
  "language_info": {
   "codemirror_mode": {
    "name": "ipython",
    "version": 3
   },
   "file_extension": ".py",
   "mimetype": "text/x-python",
   "name": "python",
   "nbconvert_exporter": "python",
   "pygments_lexer": "ipython3",
   "version": "3.6.1"
  }
 },
 "nbformat": 4,
 "nbformat_minor": 2
}
